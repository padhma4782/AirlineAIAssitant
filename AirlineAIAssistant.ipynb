{
 "cells": [
  {
   "cell_type": "code",
   "execution_count": 36,
   "id": "d9d19fc9-cf70-48c9-afaa-ae412c8b18e4",
   "metadata": {},
   "outputs": [
    {
     "name": "stdout",
     "output_type": "stream",
     "text": [
      "Requirement already satisfied: openai in c:\\users\\harih\\.pyenv\\pyenv-win\\versions\\3.11.4\\lib\\site-packages (2.2.0)\n",
      "Requirement already satisfied: anyio<5,>=3.5.0 in c:\\users\\harih\\.pyenv\\pyenv-win\\versions\\3.11.4\\lib\\site-packages (from openai) (4.8.0)\n",
      "Requirement already satisfied: distro<2,>=1.7.0 in c:\\users\\harih\\.pyenv\\pyenv-win\\versions\\3.11.4\\lib\\site-packages (from openai) (1.9.0)\n",
      "Requirement already satisfied: httpx<1,>=0.23.0 in c:\\users\\harih\\.pyenv\\pyenv-win\\versions\\3.11.4\\lib\\site-packages (from openai) (0.28.1)\n",
      "Requirement already satisfied: jiter<1,>=0.4.0 in c:\\users\\harih\\.pyenv\\pyenv-win\\versions\\3.11.4\\lib\\site-packages (from openai) (0.11.0)\n",
      "Requirement already satisfied: pydantic<3,>=1.9.0 in c:\\users\\harih\\.pyenv\\pyenv-win\\versions\\3.11.4\\lib\\site-packages (from openai) (2.11.10)\n",
      "Requirement already satisfied: sniffio in c:\\users\\harih\\.pyenv\\pyenv-win\\versions\\3.11.4\\lib\\site-packages (from openai) (1.3.1)\n",
      "Requirement already satisfied: tqdm>4 in c:\\users\\harih\\.pyenv\\pyenv-win\\versions\\3.11.4\\lib\\site-packages (from openai) (4.67.1)\n",
      "Requirement already satisfied: typing-extensions<5,>=4.11 in c:\\users\\harih\\.pyenv\\pyenv-win\\versions\\3.11.4\\lib\\site-packages (from openai) (4.12.2)\n",
      "Requirement already satisfied: idna>=2.8 in c:\\users\\harih\\.pyenv\\pyenv-win\\versions\\3.11.4\\lib\\site-packages (from anyio<5,>=3.5.0->openai) (3.10)\n",
      "Requirement already satisfied: certifi in c:\\users\\harih\\.pyenv\\pyenv-win\\versions\\3.11.4\\lib\\site-packages (from httpx<1,>=0.23.0->openai) (2025.1.31)\n",
      "Requirement already satisfied: httpcore==1.* in c:\\users\\harih\\.pyenv\\pyenv-win\\versions\\3.11.4\\lib\\site-packages (from httpx<1,>=0.23.0->openai) (1.0.7)\n",
      "Requirement already satisfied: h11<0.15,>=0.13 in c:\\users\\harih\\.pyenv\\pyenv-win\\versions\\3.11.4\\lib\\site-packages (from httpcore==1.*->httpx<1,>=0.23.0->openai) (0.14.0)\n",
      "Requirement already satisfied: annotated-types>=0.6.0 in c:\\users\\harih\\.pyenv\\pyenv-win\\versions\\3.11.4\\lib\\site-packages (from pydantic<3,>=1.9.0->openai) (0.7.0)\n",
      "Requirement already satisfied: pydantic-core==2.33.2 in c:\\users\\harih\\.pyenv\\pyenv-win\\versions\\3.11.4\\lib\\site-packages (from pydantic<3,>=1.9.0->openai) (2.33.2)\n",
      "Requirement already satisfied: typing-inspection>=0.4.0 in c:\\users\\harih\\.pyenv\\pyenv-win\\versions\\3.11.4\\lib\\site-packages (from pydantic<3,>=1.9.0->openai) (0.4.2)\n",
      "Requirement already satisfied: colorama in c:\\users\\harih\\.pyenv\\pyenv-win\\versions\\3.11.4\\lib\\site-packages (from tqdm>4->openai) (0.4.6)\n",
      "Note: you may need to restart the kernel to use updated packages.\n"
     ]
    },
    {
     "name": "stderr",
     "output_type": "stream",
     "text": [
      "\n",
      "[notice] A new release of pip is available: 23.1.2 -> 25.2\n",
      "[notice] To update, run: python.exe -m pip install --upgrade pip\n"
     ]
    }
   ],
   "source": [
    "%pip install openai"
   ]
  },
  {
   "cell_type": "code",
   "execution_count": 37,
   "id": "1179b32f-3ef4-4fa4-a1dd-e67096ccb568",
   "metadata": {},
   "outputs": [
    {
     "name": "stdout",
     "output_type": "stream",
     "text": [
      "Requirement already satisfied: gradio in c:\\users\\harih\\.pyenv\\pyenv-win\\versions\\3.11.4\\lib\\site-packages (5.49.0)\n",
      "Requirement already satisfied: aiofiles<25.0,>=22.0 in c:\\users\\harih\\.pyenv\\pyenv-win\\versions\\3.11.4\\lib\\site-packages (from gradio) (24.1.0)\n",
      "Requirement already satisfied: anyio<5.0,>=3.0 in c:\\users\\harih\\.pyenv\\pyenv-win\\versions\\3.11.4\\lib\\site-packages (from gradio) (4.8.0)\n",
      "Requirement already satisfied: brotli>=1.1.0 in c:\\users\\harih\\.pyenv\\pyenv-win\\versions\\3.11.4\\lib\\site-packages (from gradio) (1.1.0)\n",
      "Requirement already satisfied: fastapi<1.0,>=0.115.2 in c:\\users\\harih\\.pyenv\\pyenv-win\\versions\\3.11.4\\lib\\site-packages (from gradio) (0.118.0)\n",
      "Requirement already satisfied: ffmpy in c:\\users\\harih\\.pyenv\\pyenv-win\\versions\\3.11.4\\lib\\site-packages (from gradio) (0.6.1)\n",
      "Requirement already satisfied: gradio-client==1.13.3 in c:\\users\\harih\\.pyenv\\pyenv-win\\versions\\3.11.4\\lib\\site-packages (from gradio) (1.13.3)\n",
      "Requirement already satisfied: groovy~=0.1 in c:\\users\\harih\\.pyenv\\pyenv-win\\versions\\3.11.4\\lib\\site-packages (from gradio) (0.1.2)\n",
      "Requirement already satisfied: httpx<1.0,>=0.24.1 in c:\\users\\harih\\.pyenv\\pyenv-win\\versions\\3.11.4\\lib\\site-packages (from gradio) (0.28.1)\n",
      "Requirement already satisfied: huggingface-hub<2.0,>=0.33.5 in c:\\users\\harih\\.pyenv\\pyenv-win\\versions\\3.11.4\\lib\\site-packages (from gradio) (0.34.4)\n",
      "Requirement already satisfied: jinja2<4.0 in c:\\users\\harih\\.pyenv\\pyenv-win\\versions\\3.11.4\\lib\\site-packages (from gradio) (3.1.6)\n",
      "Requirement already satisfied: markupsafe<4.0,>=2.0 in c:\\users\\harih\\.pyenv\\pyenv-win\\versions\\3.11.4\\lib\\site-packages (from gradio) (3.0.2)\n",
      "Requirement already satisfied: numpy<3.0,>=1.0 in c:\\users\\harih\\.pyenv\\pyenv-win\\versions\\3.11.4\\lib\\site-packages (from gradio) (2.2.3)\n",
      "Requirement already satisfied: orjson~=3.0 in c:\\users\\harih\\.pyenv\\pyenv-win\\versions\\3.11.4\\lib\\site-packages (from gradio) (3.11.3)\n",
      "Requirement already satisfied: packaging in c:\\users\\harih\\.pyenv\\pyenv-win\\versions\\3.11.4\\lib\\site-packages (from gradio) (24.2)\n",
      "Requirement already satisfied: pandas<3.0,>=1.0 in c:\\users\\harih\\.pyenv\\pyenv-win\\versions\\3.11.4\\lib\\site-packages (from gradio) (2.2.3)\n",
      "Requirement already satisfied: pillow<12.0,>=8.0 in c:\\users\\harih\\.pyenv\\pyenv-win\\versions\\3.11.4\\lib\\site-packages (from gradio) (11.3.0)\n",
      "Requirement already satisfied: pydantic<2.12,>=2.0 in c:\\users\\harih\\.pyenv\\pyenv-win\\versions\\3.11.4\\lib\\site-packages (from gradio) (2.11.10)\n",
      "Requirement already satisfied: pydub in c:\\users\\harih\\.pyenv\\pyenv-win\\versions\\3.11.4\\lib\\site-packages (from gradio) (0.25.1)\n",
      "Requirement already satisfied: python-multipart>=0.0.18 in c:\\users\\harih\\.pyenv\\pyenv-win\\versions\\3.11.4\\lib\\site-packages (from gradio) (0.0.20)\n",
      "Requirement already satisfied: pyyaml<7.0,>=5.0 in c:\\users\\harih\\.pyenv\\pyenv-win\\versions\\3.11.4\\lib\\site-packages (from gradio) (6.0.2)\n",
      "Requirement already satisfied: ruff>=0.9.3 in c:\\users\\harih\\.pyenv\\pyenv-win\\versions\\3.11.4\\lib\\site-packages (from gradio) (0.13.3)\n",
      "Requirement already satisfied: safehttpx<0.2.0,>=0.1.6 in c:\\users\\harih\\.pyenv\\pyenv-win\\versions\\3.11.4\\lib\\site-packages (from gradio) (0.1.6)\n",
      "Requirement already satisfied: semantic-version~=2.0 in c:\\users\\harih\\.pyenv\\pyenv-win\\versions\\3.11.4\\lib\\site-packages (from gradio) (2.10.0)\n",
      "Requirement already satisfied: starlette<1.0,>=0.40.0 in c:\\users\\harih\\.pyenv\\pyenv-win\\versions\\3.11.4\\lib\\site-packages (from gradio) (0.48.0)\n",
      "Requirement already satisfied: tomlkit<0.14.0,>=0.12.0 in c:\\users\\harih\\.pyenv\\pyenv-win\\versions\\3.11.4\\lib\\site-packages (from gradio) (0.13.3)\n",
      "Requirement already satisfied: typer<1.0,>=0.12 in c:\\users\\harih\\.pyenv\\pyenv-win\\versions\\3.11.4\\lib\\site-packages (from gradio) (0.19.2)\n",
      "Requirement already satisfied: typing-extensions~=4.0 in c:\\users\\harih\\.pyenv\\pyenv-win\\versions\\3.11.4\\lib\\site-packages (from gradio) (4.12.2)\n",
      "Requirement already satisfied: uvicorn>=0.14.0 in c:\\users\\harih\\.pyenv\\pyenv-win\\versions\\3.11.4\\lib\\site-packages (from gradio) (0.37.0)\n",
      "Requirement already satisfied: fsspec in c:\\users\\harih\\.pyenv\\pyenv-win\\versions\\3.11.4\\lib\\site-packages (from gradio-client==1.13.3->gradio) (2025.7.0)\n",
      "Requirement already satisfied: websockets<16.0,>=13.0 in c:\\users\\harih\\.pyenv\\pyenv-win\\versions\\3.11.4\\lib\\site-packages (from gradio-client==1.13.3->gradio) (15.0.1)\n",
      "Requirement already satisfied: idna>=2.8 in c:\\users\\harih\\.pyenv\\pyenv-win\\versions\\3.11.4\\lib\\site-packages (from anyio<5.0,>=3.0->gradio) (3.10)\n",
      "Requirement already satisfied: sniffio>=1.1 in c:\\users\\harih\\.pyenv\\pyenv-win\\versions\\3.11.4\\lib\\site-packages (from anyio<5.0,>=3.0->gradio) (1.3.1)\n",
      "Requirement already satisfied: certifi in c:\\users\\harih\\.pyenv\\pyenv-win\\versions\\3.11.4\\lib\\site-packages (from httpx<1.0,>=0.24.1->gradio) (2025.1.31)\n",
      "Requirement already satisfied: httpcore==1.* in c:\\users\\harih\\.pyenv\\pyenv-win\\versions\\3.11.4\\lib\\site-packages (from httpx<1.0,>=0.24.1->gradio) (1.0.7)\n",
      "Requirement already satisfied: h11<0.15,>=0.13 in c:\\users\\harih\\.pyenv\\pyenv-win\\versions\\3.11.4\\lib\\site-packages (from httpcore==1.*->httpx<1.0,>=0.24.1->gradio) (0.14.0)\n",
      "Requirement already satisfied: filelock in c:\\users\\harih\\.pyenv\\pyenv-win\\versions\\3.11.4\\lib\\site-packages (from huggingface-hub<2.0,>=0.33.5->gradio) (3.19.1)\n",
      "Requirement already satisfied: requests in c:\\users\\harih\\.pyenv\\pyenv-win\\versions\\3.11.4\\lib\\site-packages (from huggingface-hub<2.0,>=0.33.5->gradio) (2.32.3)\n",
      "Requirement already satisfied: tqdm>=4.42.1 in c:\\users\\harih\\.pyenv\\pyenv-win\\versions\\3.11.4\\lib\\site-packages (from huggingface-hub<2.0,>=0.33.5->gradio) (4.67.1)\n",
      "Requirement already satisfied: python-dateutil>=2.8.2 in c:\\users\\harih\\.pyenv\\pyenv-win\\versions\\3.11.4\\lib\\site-packages (from pandas<3.0,>=1.0->gradio) (2.9.0.post0)\n",
      "Requirement already satisfied: pytz>=2020.1 in c:\\users\\harih\\.pyenv\\pyenv-win\\versions\\3.11.4\\lib\\site-packages (from pandas<3.0,>=1.0->gradio) (2025.1)\n",
      "Requirement already satisfied: tzdata>=2022.7 in c:\\users\\harih\\.pyenv\\pyenv-win\\versions\\3.11.4\\lib\\site-packages (from pandas<3.0,>=1.0->gradio) (2025.1)\n",
      "Requirement already satisfied: annotated-types>=0.6.0 in c:\\users\\harih\\.pyenv\\pyenv-win\\versions\\3.11.4\\lib\\site-packages (from pydantic<2.12,>=2.0->gradio) (0.7.0)\n",
      "Requirement already satisfied: pydantic-core==2.33.2 in c:\\users\\harih\\.pyenv\\pyenv-win\\versions\\3.11.4\\lib\\site-packages (from pydantic<2.12,>=2.0->gradio) (2.33.2)\n",
      "Requirement already satisfied: typing-inspection>=0.4.0 in c:\\users\\harih\\.pyenv\\pyenv-win\\versions\\3.11.4\\lib\\site-packages (from pydantic<2.12,>=2.0->gradio) (0.4.2)\n",
      "Requirement already satisfied: click>=8.0.0 in c:\\users\\harih\\.pyenv\\pyenv-win\\versions\\3.11.4\\lib\\site-packages (from typer<1.0,>=0.12->gradio) (8.3.0)\n",
      "Requirement already satisfied: shellingham>=1.3.0 in c:\\users\\harih\\.pyenv\\pyenv-win\\versions\\3.11.4\\lib\\site-packages (from typer<1.0,>=0.12->gradio) (1.5.4)\n",
      "Requirement already satisfied: rich>=10.11.0 in c:\\users\\harih\\.pyenv\\pyenv-win\\versions\\3.11.4\\lib\\site-packages (from typer<1.0,>=0.12->gradio) (14.1.0)\n",
      "Requirement already satisfied: colorama in c:\\users\\harih\\.pyenv\\pyenv-win\\versions\\3.11.4\\lib\\site-packages (from click>=8.0.0->typer<1.0,>=0.12->gradio) (0.4.6)\n",
      "Requirement already satisfied: six>=1.5 in c:\\users\\harih\\.pyenv\\pyenv-win\\versions\\3.11.4\\lib\\site-packages (from python-dateutil>=2.8.2->pandas<3.0,>=1.0->gradio) (1.17.0)\n",
      "Requirement already satisfied: markdown-it-py>=2.2.0 in c:\\users\\harih\\.pyenv\\pyenv-win\\versions\\3.11.4\\lib\\site-packages (from rich>=10.11.0->typer<1.0,>=0.12->gradio) (4.0.0)\n",
      "Requirement already satisfied: pygments<3.0.0,>=2.13.0 in c:\\users\\harih\\.pyenv\\pyenv-win\\versions\\3.11.4\\lib\\site-packages (from rich>=10.11.0->typer<1.0,>=0.12->gradio) (2.19.1)\n",
      "Requirement already satisfied: charset-normalizer<4,>=2 in c:\\users\\harih\\.pyenv\\pyenv-win\\versions\\3.11.4\\lib\\site-packages (from requests->huggingface-hub<2.0,>=0.33.5->gradio) (3.4.1)\n",
      "Requirement already satisfied: urllib3<3,>=1.21.1 in c:\\users\\harih\\.pyenv\\pyenv-win\\versions\\3.11.4\\lib\\site-packages (from requests->huggingface-hub<2.0,>=0.33.5->gradio) (2.3.0)\n",
      "Requirement already satisfied: mdurl~=0.1 in c:\\users\\harih\\.pyenv\\pyenv-win\\versions\\3.11.4\\lib\\site-packages (from markdown-it-py>=2.2.0->rich>=10.11.0->typer<1.0,>=0.12->gradio) (0.1.2)\n",
      "Note: you may need to restart the kernel to use updated packages.\n"
     ]
    },
    {
     "name": "stderr",
     "output_type": "stream",
     "text": [
      "\n",
      "[notice] A new release of pip is available: 23.1.2 -> 25.2\n",
      "[notice] To update, run: python.exe -m pip install --upgrade pip\n"
     ]
    }
   ],
   "source": [
    "pip install gradio"
   ]
  },
  {
   "cell_type": "code",
   "execution_count": 38,
   "id": "bc1f2167-fbff-4684-990a-0a4985bfb892",
   "metadata": {},
   "outputs": [],
   "source": [
    "import os\n",
    "import json\n",
    "from dotenv import load_dotenv\n",
    "from openai import AzureOpenAI\n",
    "import gradio as gr"
   ]
  },
  {
   "cell_type": "code",
   "execution_count": 39,
   "id": "1f476f03-43d3-43bc-be2b-8313e639e15a",
   "metadata": {},
   "outputs": [],
   "source": [
    "load_dotenv()\n",
    "azure_openai_key = os.getenv(\"Azure_OpenAIAPI_KEY\")\n",
    "azure_endpoint = os.getenv(\"AZURE_ENDPOINT\")\n"
   ]
  },
  {
   "cell_type": "code",
   "execution_count": 40,
   "id": "65c4d434-6a5d-4a2e-9c09-16abefe4ea33",
   "metadata": {},
   "outputs": [],
   "source": [
    "openai = AzureOpenAI(\n",
    "    azure_endpoint=azure_endpoint,\n",
    "    api_key=azure_openai_key,\n",
    "    api_version= \"2024-02-01\" \n",
    ")\n",
    "MODEL_ID = \"gpt-4o\""
   ]
  },
  {
   "cell_type": "code",
   "execution_count": 41,
   "id": "bd338aef-e858-47bf-985d-3fc2d04d99f2",
   "metadata": {},
   "outputs": [],
   "source": [
    "system_message = \"You are a helpful assistant for an Airline called FlightAI. \"\n",
    "system_message += \"Give short, courteous answers, no more than 1 sentence. \"\n",
    "system_message += \"Always be accurate. If you don't know the answer, say so.\""
   ]
  },
  {
   "cell_type": "code",
   "execution_count": 42,
   "id": "c643b2b5-4406-4e09-972c-45531a301e50",
   "metadata": {},
   "outputs": [],
   "source": [
    "ticket_prices = {\"london\": \"$799\", \"paris\": \"$899\", \"tokyo\": \"$1400\", \"berlin\": \"$499\"}\n",
    "\n",
    "def get_ticket_price(destination_city):\n",
    "    print(f\"Tool get_ticket_price called for {destination_city}\")\n",
    "    city = destination_city.lower()\n",
    "    return ticket_prices.get(city, \"Unknown\")"
   ]
  },
  {
   "cell_type": "code",
   "execution_count": 43,
   "id": "1efa0f62-869a-4470-844b-8e62a44a9826",
   "metadata": {},
   "outputs": [],
   "source": [
    "price_function = {\n",
    "    \"name\": \"get_ticket_price\",\n",
    "    \"description\": \"Get the price of a return ticket to the destination city. Call this whenever you need to know the ticket price, for example when a customer asks 'How much is a ticket to this city'\",\n",
    "    \"parameters\": {\n",
    "        \"type\": \"object\",\n",
    "        \"properties\": {\n",
    "            \"destination_city\": {\n",
    "                \"type\": \"string\",\n",
    "                \"description\": \"The city that the customer wants to travel to\",\n",
    "            },\n",
    "        },\n",
    "        \"required\": [\"destination_city\"],\n",
    "        \"additionalProperties\": False\n",
    "    }\n",
    "}"
   ]
  },
  {
   "cell_type": "code",
   "execution_count": 44,
   "id": "38887cc2-2816-4f4d-9d91-543989127670",
   "metadata": {},
   "outputs": [],
   "source": [
    "tools = [{\"type\": \"function\", \"function\": price_function}]"
   ]
  },
  {
   "cell_type": "code",
   "execution_count": 45,
   "id": "1e5fc461-ac08-4bdf-a57b-ce2a4b9c7cbd",
   "metadata": {},
   "outputs": [],
   "source": [
    "def chat(message, history):\n",
    "    messages = [{\"role\": \"system\", \"content\": system_message}] + history + [{\"role\": \"user\", \"content\": message}]\n",
    "    response = openai.chat.completions.create(model=MODEL_ID, messages=messages, tools=tools)\n",
    "\n",
    "    if response.choices[0].finish_reason==\"tool_calls\":\n",
    "        message = response.choices[0].message\n",
    "        response, city = handle_tool_call(message)\n",
    "        messages.append(message)\n",
    "        messages.append(response)\n",
    "        response = openai.chat.completions.create(model=MODEL_ID, messages=messages)\n",
    "    \n",
    "    return response.choices[0].message.content"
   ]
  },
  {
   "cell_type": "code",
   "execution_count": 46,
   "id": "f9ada931-5af3-4cfa-a7cf-6398eea090e8",
   "metadata": {},
   "outputs": [],
   "source": [
    "def handle_tool_call(message):\n",
    "    tool_call = message.tool_calls[0]\n",
    "    arguments = json.loads(tool_call.function.arguments)\n",
    "    city = arguments.get('destination_city')\n",
    "    price = get_ticket_price(city)\n",
    "    response = {\n",
    "        \"role\": \"tool\",\n",
    "        \"content\": json.dumps({\"destination_city\": city,\"price\": price}),\n",
    "        \"tool_call_id\": tool_call.id\n",
    "    }\n",
    "    return response, city"
   ]
  },
  {
   "cell_type": "code",
   "execution_count": 47,
   "id": "28f575f8-1291-4f3f-b684-a8a4e14cd1ec",
   "metadata": {},
   "outputs": [
    {
     "name": "stdout",
     "output_type": "stream",
     "text": [
      "* Running on local URL:  http://127.0.0.1:7866\n",
      "* To create a public link, set `share=True` in `launch()`.\n"
     ]
    },
    {
     "data": {
      "text/html": [
       "<div><iframe src=\"http://127.0.0.1:7866/\" width=\"100%\" height=\"500\" allow=\"autoplay; camera; microphone; clipboard-read; clipboard-write;\" frameborder=\"0\" allowfullscreen></iframe></div>"
      ],
      "text/plain": [
       "<IPython.core.display.HTML object>"
      ]
     },
     "metadata": {},
     "output_type": "display_data"
    },
    {
     "data": {
      "text/plain": []
     },
     "execution_count": 47,
     "metadata": {},
     "output_type": "execute_result"
    },
    {
     "name": "stdout",
     "output_type": "stream",
     "text": [
      "Tool get_ticket_price called for London\n",
      "Tool get_ticket_price called for mumbai\n"
     ]
    }
   ],
   "source": [
    "gr.ChatInterface(fn=chat, type=\"messages\").launch()"
   ]
  },
  {
   "cell_type": "code",
   "execution_count": null,
   "id": "ec03fefe-5ce4-4bff-a33d-0500bcef167f",
   "metadata": {},
   "outputs": [],
   "source": []
  }
 ],
 "metadata": {
  "kernelspec": {
   "display_name": "Python 3 (ipykernel)",
   "language": "python",
   "name": "python3"
  },
  "language_info": {
   "codemirror_mode": {
    "name": "ipython",
    "version": 3
   },
   "file_extension": ".py",
   "mimetype": "text/x-python",
   "name": "python",
   "nbconvert_exporter": "python",
   "pygments_lexer": "ipython3",
   "version": "3.11.4"
  }
 },
 "nbformat": 4,
 "nbformat_minor": 5
}
